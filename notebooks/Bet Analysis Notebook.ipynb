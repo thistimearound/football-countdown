{
 "cells": [
  {
   "cell_type": "code",
   "execution_count": null,
   "metadata": {},
   "outputs": [],
   "source": [
    "# NFL Schedule Scraper\n",
    "\n",
    "\"This notebook will be used for handling the analysis of game data, schedules, injuries, weather, etc.\"\n",
    "\n",
    "### Using this notebook\n",
    "\n",
    "\"* Specify the season schedule you wish to retrieve.\"\n",
    "\"* Run the next cell to search through each of the data sources for the provided IDs\"\n",
    "\"* If any paths contain any of the provided IDs, run the next cell to delete them and re-write the data\""
   ]
  },
  {
   "cell_type": "code",
   "execution_count": null,
   "metadata": {},
   "outputs": [],
   "source": [
    "'''import pandas as pd\n",
    "\n",
    "url = 'https://www.pro-football-reference.com/players/W/WilsRu00/fantasy/2018/'\n",
    "df = pd.read_html(url)[0]\n",
    "'''"
   ]
  },
  {
   "cell_type": "code",
   "execution_count": null,
   "metadata": {},
   "outputs": [],
   "source": [
    "'''\n",
    "url = 'https://www.pro-football-reference.com'\n",
    "year = 2024\n",
    "df = pd.read_html(url)[0]\n",
    "\n",
    "r = requests.get(url + '/years/' + str(year) + '/fantasy.htm')\n",
    "soup = BeautifulSoup(r.content, 'html.parser')\n",
    "parsed_table = soup.find_all('table')[0]\n",
    "'''"
   ]
  },
  {
   "cell_type": "code",
   "execution_count": null,
   "metadata": {},
   "outputs": [],
   "source": [
    "'''\n",
    "df.to_csv('schedule.csv')\n",
    "'''"
   ]
  },
  {
   "cell_type": "code",
   "execution_count": null,
   "metadata": {},
   "outputs": [],
   "source": [
    "'''\n",
    "print(msg % (p, p.rushing_att, p.rushing_yds, p.rushing_tds))\n",
    "'''"
   ]
  }
 ],
 "metadata": {
  "kernelspec": {
   "display_name": "Python 3",
   "language": "python",
   "name": "python3"
  },
  "language_info": {
   "codemirror_mode": {
    "name": "ipython",
    "version": 3
   },
   "file_extension": ".py",
   "mimetype": "text/x-python",
   "name": "python",
   "nbconvert_exporter": "python",
   "pygments_lexer": "ipython3",
   "version": "3.undefined.undefined"
  }
 },
 "nbformat": 4,
 "nbformat_minor": 2
}
